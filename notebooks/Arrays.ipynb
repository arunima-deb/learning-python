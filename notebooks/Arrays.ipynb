{
 "cells": [
  {
   "cell_type": "markdown",
   "id": "ef2f18db-9a44-4227-ac2d-d30ea26845ab",
   "metadata": {
    "tags": []
   },
   "source": [
    "Finding if an item is present in an array"
   ]
  },
  {
   "cell_type": "code",
   "execution_count": 4,
   "id": "401cead7-6c80-413f-8831-a1624c0e53f0",
   "metadata": {
    "tags": []
   },
   "outputs": [
    {
     "name": "stdout",
     "output_type": "stream",
     "text": [
      "True\n",
      "False\n",
      "'a' in array\n"
     ]
    }
   ],
   "source": [
    "array = ['a', 'b', 'c', 'd' ]\n",
    "print( 'a' in array )\n",
    "print( 'z' in array )\n",
    "if 'a' in array:\n",
    "    print( \"'a' in array\" )"
   ]
  },
  {
   "cell_type": "code",
   "execution_count": 10,
   "id": "53e8ea56-1967-4695-a835-f593890bc061",
   "metadata": {
    "tags": []
   },
   "outputs": [
    {
     "name": "stdin",
     "output_type": "stream",
     "text": [
      "Enter a letter :  a\n"
     ]
    },
    {
     "name": "stdout",
     "output_type": "stream",
     "text": [
      "a in array\n"
     ]
    }
   ],
   "source": [
    "array = [ 'a', 'b', 'c' ]\n",
    "guess = input(\"Enter a letter : \")\n",
    "if guess in array:\n",
    "    print( guess, \"in array\" )\n",
    "else:\n",
    "    print( guess, \"not in array\" )\n",
    "    "
   ]
  },
  {
   "cell_type": "code",
   "execution_count": 2,
   "id": "4052e23d-a434-4bc5-a94a-01a463fe5600",
   "metadata": {},
   "outputs": [
    {
     "name": "stdout",
     "output_type": "stream",
     "text": [
      "a1 is empty\n"
     ]
    }
   ],
   "source": [
    "a1 = []\n",
    "a2 = []\n",
    "\n",
    "if len(a1) == 0:\n",
    "    print( \"a1 is empty\" )"
   ]
  },
  {
   "cell_type": "code",
   "execution_count": null,
   "id": "05036ac1-5cf8-400a-90dd-8ddd4a15e74a",
   "metadata": {},
   "outputs": [],
   "source": []
  }
 ],
 "metadata": {
  "kernelspec": {
   "display_name": "Python 3 (ipykernel)",
   "language": "python",
   "name": "python3"
  },
  "language_info": {
   "codemirror_mode": {
    "name": "ipython",
    "version": 3
   },
   "file_extension": ".py",
   "mimetype": "text/x-python",
   "name": "python",
   "nbconvert_exporter": "python",
   "pygments_lexer": "ipython3",
   "version": "3.10.4"
  }
 },
 "nbformat": 4,
 "nbformat_minor": 5
}
