{
 "cells": [
  {
   "cell_type": "markdown",
   "id": "bb468ac3-07ba-4aef-a97f-e38faf4c1792",
   "metadata": {},
   "source": [
    "## Difference between break, continue and return"
   ]
  },
  {
   "cell_type": "code",
   "execution_count": 3,
   "id": "5c2556af-fa70-4ee7-a5ac-a919c890cf62",
   "metadata": {
    "tags": []
   },
   "outputs": [
    {
     "name": "stdout",
     "output_type": "stream",
     "text": [
      "a\n",
      "b\n",
      "c\n",
      "d\n",
      "e\n",
      "f\n",
      "g\n"
     ]
    }
   ],
   "source": [
    "for c in range( ord('a'), ord('h') ):\n",
    "    print( chr(c) )"
   ]
  },
  {
   "cell_type": "code",
   "execution_count": 5,
   "id": "c2738869-472d-427d-9638-b167bb4d4c97",
   "metadata": {
    "tags": []
   },
   "outputs": [
    {
     "name": "stdout",
     "output_type": "stream",
     "text": [
      "a\n",
      "b\n",
      "c\n",
      "e\n",
      "f\n",
      "g\n"
     ]
    }
   ],
   "source": [
    "for o in range( ord('a'), ord('h') ):\n",
    "    char = chr( o )\n",
    "    if char == 'd':\n",
    "        continue;\n",
    "    print( char )"
   ]
  },
  {
   "cell_type": "markdown",
   "id": "35acc8c4-b2ac-4df1-ba62-8d07ba376a5e",
   "metadata": {},
   "source": [
    "Note how 'd' is missing in the output. This is because, the continue statement went back to the loop start without executing the rest of the loop logic"
   ]
  },
  {
   "cell_type": "code",
   "execution_count": 6,
   "id": "078ca1b9-733b-4a0d-8936-5e64d39d353e",
   "metadata": {
    "tags": []
   },
   "outputs": [
    {
     "name": "stdout",
     "output_type": "stream",
     "text": [
      "a\n",
      "b\n",
      "c\n"
     ]
    }
   ],
   "source": [
    "for o in range( ord('a'), ord('h') ):\n",
    "    char = chr( o )\n",
    "    if char == 'd':\n",
    "        break;\n",
    "    print( char )"
   ]
  },
  {
   "cell_type": "markdown",
   "id": "0e0d4068-a813-403e-bc37-ca042588b7de",
   "metadata": {},
   "source": [
    "Here break terminated the loop on encountering 'd' hence no characters were printed after c"
   ]
  },
  {
   "cell_type": "code",
   "execution_count": 11,
   "id": "21ab29a5-4d48-406a-a3b4-b04c6359e4ac",
   "metadata": {},
   "outputs": [
    {
     "name": "stdout",
     "output_type": "stream",
     "text": [
      "a\n",
      "b\n",
      "c\n",
      "e\n",
      "After test function call\n"
     ]
    }
   ],
   "source": [
    "def test():\n",
    "    for o in range( ord('a'), ord('h') ):\n",
    "        char = chr( o )\n",
    "        if char == 'd':\n",
    "            continue\n",
    "        if char == 'f':\n",
    "            return;\n",
    "        print( char )\n",
    "    print( 'After the for loop' )\n",
    "   \n",
    "test()\n",
    "print( 'After test function call' )"
   ]
  },
  {
   "cell_type": "markdown",
   "id": "deb35779-b213-4843-a358-b4b421d5b244",
   "metadata": {},
   "source": [
    "In the above, the return statement exitted from the function, without calling the print statement after the loop"
   ]
  },
  {
   "cell_type": "code",
   "execution_count": null,
   "id": "b998b75e-fa24-450e-baf0-922242ae2486",
   "metadata": {},
   "outputs": [],
   "source": []
  }
 ],
 "metadata": {
  "kernelspec": {
   "display_name": "Python 3 (ipykernel)",
   "language": "python",
   "name": "python3"
  },
  "language_info": {
   "codemirror_mode": {
    "name": "ipython",
    "version": 3
   },
   "file_extension": ".py",
   "mimetype": "text/x-python",
   "name": "python",
   "nbconvert_exporter": "python",
   "pygments_lexer": "ipython3",
   "version": "3.10.4"
  }
 },
 "nbformat": 4,
 "nbformat_minor": 5
}
