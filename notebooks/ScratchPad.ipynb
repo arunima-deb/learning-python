{
 "cells": [
  {
   "cell_type": "code",
   "execution_count": 8,
   "id": "fac4e75a-9512-420f-8399-c0bb93c36425",
   "metadata": {
    "tags": []
   },
   "outputs": [
    {
     "name": "stdin",
     "output_type": "stream",
     "text": [
      "Value :  \n"
     ]
    },
    {
     "name": "stdout",
     "output_type": "stream",
     "text": [
      "Empty input\n"
     ]
    }
   ],
   "source": [
    "userInput = input( \"Value : \" )\n",
    "if userInput == \"\":\n",
    "    userInput = \"2\"\n",
    "else:\n",
    "    userInput = userInput"
   ]
  },
  {
   "cell_type": "code",
   "execution_count": 10,
   "id": "33a5f1b6-b3fc-47ed-bc01-e700fd4d81bc",
   "metadata": {
    "tags": []
   },
   "outputs": [
    {
     "name": "stdin",
     "output_type": "stream",
     "text": [
      "Value :  \n"
     ]
    },
    {
     "name": "stdout",
     "output_type": "stream",
     "text": [
      "2\n"
     ]
    }
   ],
   "source": [
    "userInput = input( \"Value : \" )\n",
    "userInput = \"2\" if ( userInput == \"\" ) else userInput\n",
    "print( userInput )"
   ]
  },
  {
   "cell_type": "code",
   "execution_count": 17,
   "id": "18fbf648-b877-4f17-84cf-e4b3befe0ea8",
   "metadata": {
    "tags": []
   },
   "outputs": [
    {
     "name": "stdout",
     "output_type": "stream",
     "text": [
      "a is not a digit\n"
     ]
    }
   ],
   "source": [
    "a = ''\n",
    "if a.isdigit():\n",
    "    print( 'a is a digit' )\n",
    "else:\n",
    "    print( 'a is not a digit' )"
   ]
  },
  {
   "cell_type": "code",
   "execution_count": 1,
   "id": "7eea5e75-bc76-43f1-ae4c-e57346b92a77",
   "metadata": {},
   "outputs": [
    {
     "name": "stdout",
     "output_type": "stream",
     "text": [
      "11\n"
     ]
    }
   ],
   "source": [
    "str = \"abracadabra\"\n",
    "print( len(str) )"
   ]
  },
  {
   "cell_type": "code",
   "execution_count": null,
   "id": "cc97de39-d742-414f-b216-324ce9c0ba38",
   "metadata": {},
   "outputs": [],
   "source": []
  }
 ],
 "metadata": {
  "kernelspec": {
   "display_name": "Python 3 (ipykernel)",
   "language": "python",
   "name": "python3"
  },
  "language_info": {
   "codemirror_mode": {
    "name": "ipython",
    "version": 3
   },
   "file_extension": ".py",
   "mimetype": "text/x-python",
   "name": "python",
   "nbconvert_exporter": "python",
   "pygments_lexer": "ipython3",
   "version": "3.10.4"
  }
 },
 "nbformat": 4,
 "nbformat_minor": 5
}
